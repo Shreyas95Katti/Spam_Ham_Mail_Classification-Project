{
 "cells": [
  {
   "cell_type": "markdown",
   "id": "e3f347de-0015-4b91-ab52-fffc08531043",
   "metadata": {},
   "source": [
    "$SPAM-HAM-Mail-Classification$"
   ]
  },
  {
   "cell_type": "markdown",
   "id": "ec37aa2c-128c-486e-94ad-488bb6d09f99",
   "metadata": {},
   "source": [
    "Importing Libraries"
   ]
  },
  {
   "cell_type": "code",
   "execution_count": 1,
   "id": "eff4c34c-1035-4c48-b56c-af12e659f1e3",
   "metadata": {},
   "outputs": [],
   "source": [
    "import numpy as np\n",
    "import pandas as pd\n",
    "from sklearn.model_selection import train_test_split\n",
    "from sklearn.feature_extraction.text import TfidfVectorizer\n",
    "from sklearn.linear_model import LogisticRegression\n",
    "from sklearn.metrics import accuracy_score"
   ]
  },
  {
   "cell_type": "markdown",
   "id": "9100006b-57dc-430d-a251-0046b3c5b696",
   "metadata": {},
   "source": [
    "Data Collection"
   ]
  },
  {
   "cell_type": "code",
   "execution_count": 2,
   "id": "8b0b8811-6628-4cf4-a8c1-a4e31480b32f",
   "metadata": {},
   "outputs": [],
   "source": [
    "raw_mail_data = pd.read_csv('data//mail_data.csv')"
   ]
  },
  {
   "cell_type": "markdown",
   "id": "31404c80-4c5a-46ee-8a58-681569b753c6",
   "metadata": {},
   "source": [
    "Data Cleaning"
   ]
  },
  {
   "cell_type": "code",
   "execution_count": 3,
   "id": "8ff65196-1bb6-4c27-a913-ed89094b4504",
   "metadata": {},
   "outputs": [],
   "source": [
    "mail_data = raw_mail_data.where((pd.notnull(raw_mail_data)), '')"
   ]
  },
  {
   "cell_type": "code",
   "execution_count": 4,
   "id": "f28a928e-f214-4ac0-aca8-383247ea7274",
   "metadata": {},
   "outputs": [
    {
     "name": "stdout",
     "output_type": "stream",
     "text": [
      "  Category                                            Message\n",
      "0      ham  Go until jurong point, crazy.. Available only ...\n",
      "1      ham                      Ok lar... Joking wif u oni...\n",
      "2     spam  Free entry in 2 a wkly comp to win FA Cup fina...\n",
      "3      ham  U dun say so early hor... U c already then say...\n",
      "4      ham  Nah I don't think he goes to usf, he lives aro...\n",
      "(5572, 2)\n"
     ]
    }
   ],
   "source": [
    "print(mail_data.head())\n",
    "print(mail_data.shape)"
   ]
  },
  {
   "cell_type": "markdown",
   "id": "bb868855-abc6-422e-a330-e885c7e945b4",
   "metadata": {},
   "source": [
    "Label Encoding"
   ]
  },
  {
   "cell_type": "code",
   "execution_count": 5,
   "id": "ab537faf-78da-457b-b71b-46bae840055f",
   "metadata": {},
   "outputs": [
    {
     "data": {
      "text/html": [
       "<div>\n",
       "<style scoped>\n",
       "    .dataframe tbody tr th:only-of-type {\n",
       "        vertical-align: middle;\n",
       "    }\n",
       "\n",
       "    .dataframe tbody tr th {\n",
       "        vertical-align: top;\n",
       "    }\n",
       "\n",
       "    .dataframe thead th {\n",
       "        text-align: right;\n",
       "    }\n",
       "</style>\n",
       "<table border=\"1\" class=\"dataframe\">\n",
       "  <thead>\n",
       "    <tr style=\"text-align: right;\">\n",
       "      <th></th>\n",
       "      <th>Category</th>\n",
       "      <th>Message</th>\n",
       "    </tr>\n",
       "  </thead>\n",
       "  <tbody>\n",
       "    <tr>\n",
       "      <th>0</th>\n",
       "      <td>1</td>\n",
       "      <td>Go until jurong point, crazy.. Available only ...</td>\n",
       "    </tr>\n",
       "    <tr>\n",
       "      <th>1</th>\n",
       "      <td>1</td>\n",
       "      <td>Ok lar... Joking wif u oni...</td>\n",
       "    </tr>\n",
       "    <tr>\n",
       "      <th>2</th>\n",
       "      <td>0</td>\n",
       "      <td>Free entry in 2 a wkly comp to win FA Cup fina...</td>\n",
       "    </tr>\n",
       "    <tr>\n",
       "      <th>3</th>\n",
       "      <td>1</td>\n",
       "      <td>U dun say so early hor... U c already then say...</td>\n",
       "    </tr>\n",
       "    <tr>\n",
       "      <th>4</th>\n",
       "      <td>1</td>\n",
       "      <td>Nah I don't think he goes to usf, he lives aro...</td>\n",
       "    </tr>\n",
       "  </tbody>\n",
       "</table>\n",
       "</div>"
      ],
      "text/plain": [
       "  Category                                            Message\n",
       "0        1  Go until jurong point, crazy.. Available only ...\n",
       "1        1                      Ok lar... Joking wif u oni...\n",
       "2        0  Free entry in 2 a wkly comp to win FA Cup fina...\n",
       "3        1  U dun say so early hor... U c already then say...\n",
       "4        1  Nah I don't think he goes to usf, he lives aro..."
      ]
     },
     "execution_count": 5,
     "metadata": {},
     "output_type": "execute_result"
    }
   ],
   "source": [
    "mail_data.loc[mail_data['Category'] == 'spam', 'Category', ] = 0   #spam = 0\n",
    "mail_data.loc[mail_data['Category'] == 'ham', 'Category', ] = 1    #ham = 1\n",
    "mail_data.head()"
   ]
  },
  {
   "cell_type": "markdown",
   "id": "5ddfd83f-6252-4d9f-ae85-67790cc16601",
   "metadata": {},
   "source": [
    "Separating data as feature matrix (message) and target matrix (spam/ham)"
   ]
  },
  {
   "cell_type": "code",
   "execution_count": 6,
   "id": "b04c5177-c7f8-458e-828d-e9cc46c34bf9",
   "metadata": {
    "tags": []
   },
   "outputs": [
    {
     "name": "stdout",
     "output_type": "stream",
     "text": [
      "0       Go until jurong point, crazy.. Available only ...\n",
      "1                           Ok lar... Joking wif u oni...\n",
      "2       Free entry in 2 a wkly comp to win FA Cup fina...\n",
      "3       U dun say so early hor... U c already then say...\n",
      "4       Nah I don't think he goes to usf, he lives aro...\n",
      "                              ...                        \n",
      "5567    This is the 2nd time we have tried 2 contact u...\n",
      "5568                 Will ü b going to esplanade fr home?\n",
      "5569    Pity, * was in mood for that. So...any other s...\n",
      "5570    The guy did some bitching but I acted like i'd...\n",
      "5571                           Rofl. Its true to its name\n",
      "Name: Message, Length: 5572, dtype: object\n",
      "\n",
      "\n",
      "\n",
      "0       1\n",
      "1       1\n",
      "2       0\n",
      "3       1\n",
      "4       1\n",
      "       ..\n",
      "5567    0\n",
      "5568    1\n",
      "5569    1\n",
      "5570    1\n",
      "5571    1\n",
      "Name: Category, Length: 5572, dtype: object\n"
     ]
    }
   ],
   "source": [
    "X = mail_data['Message']\n",
    "y = mail_data['Category']\n",
    "print(X)\n",
    "print(\"\\n\\n\")\n",
    "print(y)"
   ]
  },
  {
   "cell_type": "markdown",
   "id": "55dc394e-7fb4-4b9c-9b74-eee9653ed29f",
   "metadata": {},
   "source": [
    "Splitting the data into Training and Testing"
   ]
  },
  {
   "cell_type": "code",
   "execution_count": 7,
   "id": "b782ce5e-1268-45f0-8a3a-1302bb435a5a",
   "metadata": {},
   "outputs": [],
   "source": [
    "X_train, X_test, y_train, y_test = train_test_split(X, y, test_size = 0.2, random_state = 3)"
   ]
  },
  {
   "cell_type": "markdown",
   "id": "e1e21e15-81ae-48bf-8a20-94fb9f5e4c65",
   "metadata": {},
   "source": [
    "Feature Extraction"
   ]
  },
  {
   "cell_type": "code",
   "execution_count": 8,
   "id": "98104fdc-b0ee-4db2-bc0f-f1ec5bcc64db",
   "metadata": {},
   "outputs": [],
   "source": [
    "#makig words to vectors\n",
    "feature_extraction = TfidfVectorizer(min_df = 1, stop_words = 'english', lowercase = 'True')\n",
    "\n",
    "X_train_features = feature_extraction.fit_transform(X_train)\n",
    "X_test_features = feature_extraction.transform(X_test)  #testing data so no need to fit\n",
    "\n",
    "y_train = y_train.astype('int')\n",
    "y_test = y_test.astype('int')"
   ]
  },
  {
   "cell_type": "code",
   "execution_count": 9,
   "id": "71fd6bcd-d832-4c4f-9216-a8430c4462f8",
   "metadata": {
    "tags": []
   },
   "outputs": [
    {
     "name": "stdout",
     "output_type": "stream",
     "text": [
      "  (0, 5413)\t0.6198254967574347\n",
      "  (0, 4456)\t0.4168658090846482\n",
      "  (0, 2224)\t0.413103377943378\n",
      "  (0, 3811)\t0.34780165336891333\n",
      "  (0, 2329)\t0.38783870336935383\n",
      "  (1, 4080)\t0.18880584110891163\n",
      "  (1, 3185)\t0.29694482957694585\n",
      "  (1, 3325)\t0.31610586766078863\n",
      "  (1, 2957)\t0.3398297002864083\n",
      "  (1, 2746)\t0.3398297002864083\n",
      "  (1, 918)\t0.22871581159877646\n",
      "  (1, 1839)\t0.2784903590561455\n",
      "  (1, 2758)\t0.3226407885943799\n",
      "  (1, 2956)\t0.33036995955537024\n",
      "  (1, 1991)\t0.33036995955537024\n",
      "  (1, 3046)\t0.2503712792613518\n",
      "  (1, 3811)\t0.17419952275504033\n",
      "  (2, 407)\t0.509272536051008\n",
      "  (2, 3156)\t0.4107239318312698\n",
      "  (2, 2404)\t0.45287711070606745\n",
      "  (2, 6601)\t0.6056811524587518\n",
      "  (3, 2870)\t0.5864269879324768\n",
      "  (3, 7414)\t0.8100020912469564\n",
      "  (4, 50)\t0.23633754072626942\n",
      "  (4, 5497)\t0.15743785051118356\n",
      "  :\t:\n",
      "  (4454, 4602)\t0.2669765732445391\n",
      "  (4454, 3142)\t0.32014451677763156\n",
      "  (4455, 2247)\t0.37052851863170466\n",
      "  (4455, 2469)\t0.35441545511837946\n",
      "  (4455, 5646)\t0.33545678464631296\n",
      "  (4455, 6810)\t0.29731757715898277\n",
      "  (4455, 6091)\t0.23103841516927642\n",
      "  (4455, 7113)\t0.30536590342067704\n",
      "  (4455, 3872)\t0.3108911491788658\n",
      "  (4455, 4715)\t0.30714144758811196\n",
      "  (4455, 6916)\t0.19636985317119715\n",
      "  (4455, 3922)\t0.31287563163368587\n",
      "  (4455, 4456)\t0.24920025316220423\n",
      "  (4456, 141)\t0.292943737785358\n",
      "  (4456, 647)\t0.30133182431707617\n",
      "  (4456, 6311)\t0.30133182431707617\n",
      "  (4456, 5569)\t0.4619395404299172\n",
      "  (4456, 6028)\t0.21034888000987115\n",
      "  (4456, 7154)\t0.24083218452280053\n",
      "  (4456, 7150)\t0.3677554681447669\n",
      "  (4456, 6249)\t0.17573831794959716\n",
      "  (4456, 6307)\t0.2752760476857975\n",
      "  (4456, 334)\t0.2220077711654938\n",
      "  (4456, 5778)\t0.16243064490100795\n",
      "  (4456, 2870)\t0.31523196273113385\n"
     ]
    }
   ],
   "source": [
    "print(X_train_features)"
   ]
  },
  {
   "cell_type": "markdown",
   "id": "7320aaed-6e27-4d0e-95c6-ba7d9c62793f",
   "metadata": {},
   "source": [
    "Training the Logistic Regression Model"
   ]
  },
  {
   "cell_type": "code",
   "execution_count": 10,
   "id": "eabf8d3b-3315-40ec-b2ef-801bebfae3f7",
   "metadata": {},
   "outputs": [
    {
     "data": {
      "text/plain": [
       "LogisticRegression()"
      ]
     },
     "execution_count": 10,
     "metadata": {},
     "output_type": "execute_result"
    }
   ],
   "source": [
    "#define model\n",
    "model = LogisticRegression()\n",
    "\n",
    "#fit data and model\n",
    "model.fit(X_train_features, y_train)"
   ]
  },
  {
   "cell_type": "markdown",
   "id": "41f0120f-ebe0-4468-9123-7db46c76bf69",
   "metadata": {},
   "source": [
    "Evaluate the Model"
   ]
  },
  {
   "cell_type": "code",
   "execution_count": 11,
   "id": "22d9f7d3-266c-4351-a66b-c2e5f3b206aa",
   "metadata": {},
   "outputs": [
    {
     "name": "stdout",
     "output_type": "stream",
     "text": [
      "0.9670181736594121\n"
     ]
    }
   ],
   "source": [
    "#prediction on training data\n",
    "\n",
    "pred_train_data = model.predict(X_train_features)\n",
    "accuracy_train_data = accuracy_score(y_train, pred_train_data)\n",
    "print(accuracy_train_data)"
   ]
  },
  {
   "cell_type": "markdown",
   "id": "e5991f11-0400-4a03-86a0-065161975512",
   "metadata": {},
   "source": [
    "Evaluate model using test data"
   ]
  },
  {
   "cell_type": "code",
   "execution_count": 12,
   "id": "4a307950-dd48-4f76-bb5c-8fdf108d6a73",
   "metadata": {},
   "outputs": [
    {
     "name": "stdout",
     "output_type": "stream",
     "text": [
      "0.9659192825112107\n"
     ]
    }
   ],
   "source": [
    "#prediction on test data\n",
    "\n",
    "pred_test_data = model.predict(X_test_features)\n",
    "accuracy_test_data = accuracy_score(y_test, pred_test_data)\n",
    "print(accuracy_test_data)"
   ]
  },
  {
   "cell_type": "markdown",
   "id": "59409bd2-8905-4a4f-a189-c0c5bcaac490",
   "metadata": {},
   "source": [
    "Notice overfitting (training accuracy> test accuracy)\n",
    "Even though the difference is small, this can cause a bias in the output for a new dataset\n",
    "\n",
    "\n",
    "Building a predictive system (user friendly system)"
   ]
  },
  {
   "cell_type": "code",
   "execution_count": 13,
   "id": "4b3d5298-380d-4c83-9280-deb597a27c96",
   "metadata": {},
   "outputs": [
    {
     "name": "stdout",
     "output_type": "stream",
     "text": [
      "[1]\n",
      "Ham Mail\n"
     ]
    }
   ],
   "source": [
    "#Type 1\n",
    "input_mail = [\"Get more out of your job alerts\"]\n",
    "\n",
    "#verctorization\n",
    "input_mail_features = feature_extraction.transform(input_mail)\n",
    "\n",
    "#making preds\n",
    "prediction = model.predict(input_mail_features)\n",
    "print(prediction)\n",
    "\n",
    "#check\n",
    "if prediction[0] == 1:\n",
    "    print(\"Ham Mail\")\n",
    "\n",
    "else:\n",
    "    print(\"Spam Mail\")"
   ]
  },
  {
   "cell_type": "code",
   "execution_count": 14,
   "id": "cea4af75-81de-463c-b6c4-d8242d0d407e",
   "metadata": {},
   "outputs": [],
   "source": [
    "#Type 2\n",
    "def check_spam_ham(input):\n",
    "    input_mail = [input]\n",
    "\n",
    "    #verctorization\n",
    "    input_mail_features = feature_extraction.transform(input_mail)\n",
    "\n",
    "    #making preds\n",
    "    prediction = model.predict(input_mail_features)\n",
    "    #print(prediction)\n",
    "\n",
    "    #check\n",
    "    if prediction[0] == 1:\n",
    "        return(\"Ham Mail\")\n",
    "\n",
    "    else:\n",
    "        return(\"Spam Mail\")"
   ]
  },
  {
   "cell_type": "code",
   "execution_count": 15,
   "id": "6e8bf0d2-bcb8-4327-b935-8768efb85bd5",
   "metadata": {},
   "outputs": [
    {
     "name": "stdin",
     "output_type": "stream",
     "text": [
      "Enter mail body:\n",
      " I'm gonna say no. Sorry. I would but as normal am starting to panic about time. Sorry again! Are you seeing on Tuesday?\n"
     ]
    },
    {
     "data": {
      "text/plain": [
       "'Ham Mail'"
      ]
     },
     "execution_count": 15,
     "metadata": {},
     "output_type": "execute_result"
    }
   ],
   "source": [
    "n = str(input(\"Enter mail body:\\n\"))\n",
    "check_spam_ham(n)"
   ]
  },
  {
   "cell_type": "code",
   "execution_count": null,
   "id": "e697b241-1f34-42c7-aaed-bafe664f3a27",
   "metadata": {},
   "outputs": [],
   "source": []
  }
 ],
 "metadata": {
  "kernelspec": {
   "display_name": "Python 3 (ipykernel)",
   "language": "python",
   "name": "python3"
  },
  "language_info": {
   "codemirror_mode": {
    "name": "ipython",
    "version": 3
   },
   "file_extension": ".py",
   "mimetype": "text/x-python",
   "name": "python",
   "nbconvert_exporter": "python",
   "pygments_lexer": "ipython3",
   "version": "3.8.12"
  }
 },
 "nbformat": 4,
 "nbformat_minor": 5
}
